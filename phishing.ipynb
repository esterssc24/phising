{
  "nbformat": 4,
  "nbformat_minor": 0,
  "metadata": {
    "colab": {
      "provenance": [],
      "authorship_tag": "ABX9TyMHC3Z3VS/Sfi2egEkJaK36",
      "include_colab_link": true
    },
    "kernelspec": {
      "name": "python3",
      "display_name": "Python 3"
    },
    "language_info": {
      "name": "python"
    }
  },
  "cells": [
    {
      "cell_type": "markdown",
      "metadata": {
        "id": "view-in-github",
        "colab_type": "text"
      },
      "source": [
        "<a href=\"https://colab.research.google.com/github/esterssc24/phising/blob/main/phishing.ipynb\" target=\"_parent\"><img src=\"https://colab.research.google.com/assets/colab-badge.svg\" alt=\"Open In Colab\"/></a>"
      ]
    },
    {
      "cell_type": "code",
      "source": [
        "!pip install pandas numpy scikit-learn joblib\n"
      ],
      "metadata": {
        "colab": {
          "base_uri": "https://localhost:8080/"
        },
        "id": "lz2KznWmEdR0",
        "outputId": "12020470-b104-42a2-b10d-0b85e80376bf"
      },
      "execution_count": 12,
      "outputs": [
        {
          "output_type": "stream",
          "name": "stdout",
          "text": [
            "Requirement already satisfied: pandas in /usr/local/lib/python3.10/dist-packages (2.2.2)\n",
            "Requirement already satisfied: numpy in /usr/local/lib/python3.10/dist-packages (1.26.4)\n",
            "Requirement already satisfied: scikit-learn in /usr/local/lib/python3.10/dist-packages (1.5.2)\n",
            "Requirement already satisfied: joblib in /usr/local/lib/python3.10/dist-packages (1.4.2)\n",
            "Requirement already satisfied: python-dateutil>=2.8.2 in /usr/local/lib/python3.10/dist-packages (from pandas) (2.8.2)\n",
            "Requirement already satisfied: pytz>=2020.1 in /usr/local/lib/python3.10/dist-packages (from pandas) (2024.2)\n",
            "Requirement already satisfied: tzdata>=2022.7 in /usr/local/lib/python3.10/dist-packages (from pandas) (2024.2)\n",
            "Requirement already satisfied: scipy>=1.6.0 in /usr/local/lib/python3.10/dist-packages (from scikit-learn) (1.13.1)\n",
            "Requirement already satisfied: threadpoolctl>=3.1.0 in /usr/local/lib/python3.10/dist-packages (from scikit-learn) (3.5.0)\n",
            "Requirement already satisfied: six>=1.5 in /usr/local/lib/python3.10/dist-packages (from python-dateutil>=2.8.2->pandas) (1.16.0)\n"
          ]
        }
      ]
    },
    {
      "cell_type": "code",
      "source": [
        "# criar um arquivo csv\n",
        "data = \"\"\"url,label\n",
        "http://example.com,0\n",
        "http://phishing-site.com,1\n",
        "https://secure-site.org,0\n",
        "http://malicious-link.net,1\n",
        "http://legit-site.com,0\n",
        "http://fakebank-login.com,1\n",
        "\"\"\"\n",
        "with open(\"urls.csv\", \"w\") as file:\n",
        "    file.write(data)\n",
        "\n",
        "print(\"arquivo urls.csv criado com sucesso!\")\n"
      ],
      "metadata": {
        "colab": {
          "base_uri": "https://localhost:8080/"
        },
        "id": "nEZCsxZPEe-p",
        "outputId": "88375e68-b577-479e-9f08-439b6b7ccf1c"
      },
      "execution_count": 13,
      "outputs": [
        {
          "output_type": "stream",
          "name": "stdout",
          "text": [
            "arquivo urls.csv criado com sucesso!\n"
          ]
        }
      ]
    },
    {
      "cell_type": "code",
      "source": [
        "import requests\n",
        "import joblib\n",
        "from urllib.parse import urlparse\n",
        "import numpy as np\n",
        "import re\n",
        "\n",
        "class Utils:\n",
        "    def extract_features(self, url: str) -> np.array:\n",
        "        \"\"\"\n",
        "        extrai características simples da url.\n",
        "        \"\"\"\n",
        "        parsed_url = urlparse(url)\n",
        "        return np.array([\n",
        "            len(url),  # tamanho da url\n",
        "            url.count('.'),  # número de pontos\n",
        "            url.count('-'),  # número de hífens\n",
        "            url.startswith('https'),  # começa com https\n",
        "            len(parsed_url.netloc),  # tamanho do domínio\n",
        "            len(parsed_url.path),  # tamanho do caminho\n",
        "        ]).reshape(1, -1)\n",
        "\n",
        "    def model_predict(self, classifier, features: np.array):\n",
        "        \"\"\"\n",
        "        faz a predição usando o modelo.\n",
        "        \"\"\"\n",
        "        try:\n",
        "            probabilities = classifier.predict_proba(features)\n",
        "            score = probabilities[0][1] * 100  # probabilidade de phishing\n",
        "            reason = \"alta chance de ser golpe\" if score > 50 else \"parece seguro\"\n",
        "            return {\n",
        "                \"empresa\": \"Desconhecida\",\n",
        "                \"valida\": True,\n",
        "                \"motivo\": reason,\n",
        "                \"score\": round(score, 2)\n",
        "            }\n",
        "        except Exception as e:\n",
        "            print(\"erro na predição:\", e)\n",
        "            return {\n",
        "                \"empresa\": \"Desconhecida\",\n",
        "                \"valida\": False,\n",
        "                \"motivo\": \"erro ao tentar processar a predição\"\n",
        "            }\n",
        "\n",
        "class Url:\n",
        "    def __init__(self):\n",
        "        self.classifier = None\n",
        "        self.utils = Utils()\n",
        "\n",
        "    def set_classifier(self, classifier):\n",
        "        \"\"\"\n",
        "        define o classificador a ser usado.\n",
        "        \"\"\"\n",
        "        self.classifier = classifier\n",
        "\n",
        "    def is_valid_url(self, url: str) -> bool:\n",
        "        \"\"\"\n",
        "        valida o formato da url.\n",
        "        \"\"\"\n",
        "        regex = re.compile(\n",
        "            r'^(https?:\\/\\/)?'  # protocolo\n",
        "            r'([a-zA-Z0-9-]+\\.)+[a-zA-Z]{2,6}'  # domínio\n",
        "            r'(\\/[a-zA-Z0-9._%+-]*)*$',  # caminho opcional\n",
        "            re.IGNORECASE\n",
        "        )\n",
        "        return re.match(regex, url) is not None\n",
        "\n",
        "    def check_phishing(self, url: str):\n",
        "        \"\"\"\n",
        "        verifica se a url é phishing.\n",
        "        \"\"\"\n",
        "        if not self.is_valid_url(url):\n",
        "            return {\n",
        "                \"empresa\": \"Desconhecida\",\n",
        "                \"valida\": False,\n",
        "                \"motivo\": \"url inválida ou mal formatada\"\n",
        "            }\n",
        "\n",
        "        # garantir que a url comece com http/https\n",
        "        url = url if url.startswith('http') else ('http://' + url)\n",
        "\n",
        "        # tentar acessar a url\n",
        "        try:\n",
        "            response = requests.get(url, timeout=5)\n",
        "            response.raise_for_status()\n",
        "        except requests.exceptions.RequestException as error:\n",
        "            return {\n",
        "                \"empresa\": \"Desconhecida\",\n",
        "                \"valida\": False,\n",
        "                \"motivo\": f\"inválida, erro ao acessar a url ({error})\"\n",
        "            }\n",
        "\n",
        "        # extrair características e fazer a predição\n",
        "        try:\n",
        "            features = self.utils.extract_features(url)\n",
        "            result = self.utils.model_predict(self.classifier, features)\n",
        "            return result\n",
        "        except Exception as e:\n",
        "            print(\"erro:\", e)\n",
        "            return {\n",
        "                \"empresa\": \"Desconhecida\",\n",
        "                \"valida\": False,\n",
        "                \"motivo\": \"erro ao tentar processar a predição\"\n",
        "            }\n"
      ],
      "metadata": {
        "id": "Izk2otXIEjIG"
      },
      "execution_count": 14,
      "outputs": []
    },
    {
      "cell_type": "code",
      "source": [
        "import joblib\n",
        "import numpy as np\n",
        "from urllib.parse import urlparse\n",
        "import re\n",
        "\n",
        "class UrlAnalyzer:\n",
        "    def __init__(self):\n",
        "        # carregue o modelo treinado\n",
        "        try:\n",
        "            self.model = joblib.load(\"phishing_model.pkl\")\n",
        "        except FileNotFoundError:\n",
        "            self.model = None\n",
        "            print(\"modelo não encontrado! você precisa treinar o modelo primeiro.\")\n",
        "\n",
        "    def is_valid_url(self, url: str) -> bool:\n",
        "        \"\"\"\n",
        "        valida o formato da url usando regex.\n",
        "        \"\"\"\n",
        "        regex = re.compile(\n",
        "            r'^(https?:\\/\\/)?'  # protocolo\n",
        "            r'([a-zA-Z0-9-]+\\.)+[a-zA-Z]{2,6}'  # domínio\n",
        "            r'(\\/[a-zA-Z0-9._%+-]*)*$',  # caminho opcional\n",
        "            re.IGNORECASE\n",
        "        )\n",
        "        return re.match(regex, url) is not None\n",
        "\n",
        "    def extract_features(self, url: str) -> np.array:\n",
        "        \"\"\"\n",
        "        extrai características simples da url para usar no modelo.\n",
        "        \"\"\"\n",
        "        parsed_url = urlparse(url)\n",
        "        return np.array([\n",
        "            len(url),  # tamanho da url\n",
        "            url.count('.'),  # número de pontos\n",
        "            url.count('-'),  # número de hífens\n",
        "            url.startswith('https'),  # começa com https\n",
        "            len(parsed_url.netloc),  # tamanho do domínio\n",
        "            len(parsed_url.path),  # tamanho do caminho\n",
        "        ]).reshape(1, -1)\n",
        "\n",
        "    def predict_phishing(self, url: str) -> dict:\n",
        "        \"\"\"\n",
        "        classifica a url como phishing ou segura.\n",
        "        \"\"\"\n",
        "        if not self.is_valid_url(url):\n",
        "            return {\n",
        "                \"score\": 100,\n",
        "                \"reason\": \"url inválida ou mal formatada\"\n",
        "            }\n",
        "\n",
        "        if not self.model:\n",
        "            return {\n",
        "                \"score\": None,\n",
        "                \"reason\": \"modelo não está carregado. treine ou carregue um modelo para usar.\"\n",
        "            }\n",
        "\n",
        "        # extrair características e fazer a predição\n",
        "        features = self.extract_features(url)\n",
        "        score = self.model.predict_proba(features)[0][1] * 100  # probabilidade de ser phishing\n",
        "        reason = \"alta chance de ser golpe\" if score > 50 else \"parece seguro\"\n",
        "\n",
        "        return {\n",
        "            \"score\": round(score, 2),\n",
        "            \"reason\": reason\n",
        "        }\n",
        "\n",
        "# exemplo de uso\n",
        "analyzer = UrlAnalyzer()\n",
        "\n",
        "urls_to_test = [\n",
        "    \"http://example.com\",\n",
        "    \"http://phishing-site.com\",\n",
        "    \"https://secure-site.org\",\n",
        "    \"http://fakebank-login.com\"\n",
        "]\n",
        "\n",
        "for url in urls_to_test:\n",
        "    result = analyzer.predict_phishing(url)\n",
        "    print(f\"url: {url} | score: {result['score']} | reason: {result['reason']}\")\n"
      ],
      "metadata": {
        "colab": {
          "base_uri": "https://localhost:8080/"
        },
        "id": "UVwh9rO4Eqwr",
        "outputId": "a2dca362-3656-451b-83c1-474ef179cdd2"
      },
      "execution_count": 15,
      "outputs": [
        {
          "output_type": "stream",
          "name": "stdout",
          "text": [
            "url: http://example.com | score: 11.0 | reason: parece seguro\n",
            "url: http://phishing-site.com | score: 71.0 | reason: alta chance de ser golpe\n",
            "url: https://secure-site.org | score: 5.0 | reason: parece seguro\n",
            "url: http://fakebank-login.com | score: 94.0 | reason: alta chance de ser golpe\n"
          ]
        }
      ]
    }
  ]
}